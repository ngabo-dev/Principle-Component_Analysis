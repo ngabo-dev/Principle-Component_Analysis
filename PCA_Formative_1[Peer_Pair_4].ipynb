{
  "cells": [
    {
      "cell_type": "markdown",
      "metadata": {
        "id": "view-in-github",
        "colab_type": "text"
      },
      "source": [
        "<a href=\"https://colab.research.google.com/github/ngabo-dev/Principle-Component_Analysis/blob/main/PCA_Formative_1%5BPeer_Pair_4%5D.ipynb\" target=\"_parent\"><img src=\"https://colab.research.google.com/assets/colab-badge.svg\" alt=\"Open In Colab\"/></a>"
      ]
    },
    {
      "cell_type": "markdown",
      "metadata": {
        "id": "ML8U45inp1p0"
      },
      "source": [
        "# Formative Assignment: Advanced Linear Algebra (PCA)\n",
        "This notebook will guide you through the implementation of Principal Component Analysis (PCA). Fill in the missing code and provide the required answers in the appropriate sections. You will work with the `fuel_econ.csv` dataset.\n",
        "\n",
        "Make sure to display outputs for each code cell when submitting."
      ]
    },
    {
      "cell_type": "markdown",
      "metadata": {
        "id": "y2RQbS3Sp1p6"
      },
      "source": [
        "### Step 1: Load and Standardize the Data\n",
        "Before applying PCA, we must standardize the dataset. Standardization ensures that all features have a mean of 0 and a standard deviation of 1, which is essential for PCA.\n",
        "Fill in the code to standardize the dataset."
      ]
    },
    {
      "cell_type": "markdown",
      "source": [],
      "metadata": {
        "id": "aNyY6T9bkFZ1"
      }
    },
    {
      "cell_type": "code",
      "execution_count": 49,
      "metadata": {
        "id": "9b2DvF2sp1p8",
        "outputId": "62c5bbeb-a938-48a5-e426-b9322da5e4a7",
        "colab": {
          "base_uri": "https://localhost:8080/"
        }
      },
      "outputs": [
        {
          "output_type": "stream",
          "name": "stdout",
          "text": [
            "Drive already mounted at /content/drive; to attempt to forcibly remount, call drive.mount(\"/content/drive\", force_remount=True).\n",
            "First few rows of standardized data:\n",
            "[[-1.7369194  -1.47564765  0.2830656   0.65045315  1.46690956 -1.21722273\n",
            "  -0.85985067 -0.85232138 -1.29046556 -1.39229737 -1.00819446  1.02270812\n",
            "  -0.95045855 -0.94563512]\n",
            " [-1.73646264 -1.47564765 -0.78171635 -0.72790568  1.86452492 -1.21722273\n",
            "   0.00642593 -0.11741913  0.184923   -0.03919539  0.07185464 -0.29851198\n",
            "   0.1885842   0.19423308]\n",
            " [-1.73600589 -1.47564765  0.2830656   0.49730217  1.86452492 -1.21722273\n",
            "  -0.69432796 -0.75314886 -0.59194435 -0.85164117 -0.68625195  0.56786185\n",
            "  -0.38093718 -0.37570102]\n",
            " [-1.73554913 -1.47564765  0.2830656   0.49730217  1.86452492 -1.21722273\n",
            "  -0.78270066 -0.83018033 -0.82727856 -1.02745718 -0.81854705  0.75196629\n",
            "  -0.38093718 -0.37570102]\n",
            " [-1.73509237 -1.47564765 -0.78171635 -0.42160372 -0.627198    0.73479668\n",
            "   0.47102299  0.43309178  0.96739272  0.99240504  0.64797634 -0.72086923\n",
            "   1.32762694  1.33410127]]\n"
          ]
        }
      ],
      "source": [
        "# Step 1: Load and Standardize the data (use of numpy only allowed)\n",
        "\n",
        "import numpy as np\n",
        "import pandas as pd\n",
        "import matplotlib.pyplot as plt\n",
        "from google.colab import drive\n",
        "\n",
        "# Mount Google Drive\n",
        "drive.mount('/content/drive')\n",
        "\n",
        "# Load dataset\n",
        "file_path = \"/content/drive/My Drive/Colab Notebooks/fuel_econ.csv\"\n",
        "fuel_econ = pd.read_csv(file_path)\n",
        "data = fuel_econ.select_dtypes(include=[np.number])  # Select numerical columns\n",
        "\n",
        "# Handle missing values (imputation)\n",
        "data = data.fillna(data.mean())  # Fill missing values with column mean\n",
        "\n",
        "# Standardize the data\n",
        "data_mean = np.mean(data, axis=0)\n",
        "data_std = np.std(data, axis=0, ddof=1)  # Use ddof=1 for sample standard deviation\n",
        "standardized_data = ((data - data_mean) / data_std).values  # Ensure it's a NumPy array\n",
        "\n",
        "print(\"First few rows of standardized data:\")\n",
        "print(standardized_data[:5])  # Use slicing since it's a NumPy array"
      ]
    },
    {
      "cell_type": "markdown",
      "metadata": {
        "id": "LAvD2lOAp1qA"
      },
      "source": [
        "### Step 3: Calculate the Covariance Matrix\n",
        "The covariance matrix helps us understand how the features are related to each other. It is a key component in PCA."
      ]
    },
    {
      "cell_type": "code",
      "execution_count": 50,
      "metadata": {
        "id": "ipebUlP6p1qB"
      },
      "outputs": [],
      "source": [
        "# Step 3: Calculate the Covariance Matrix\n",
        "cov_matrix = None  # Calculate covariance matrix\n",
        "cov_matrix"
      ]
    },
    {
      "cell_type": "markdown",
      "metadata": {
        "id": "2opZncNbp1qD"
      },
      "source": [
        "### Step 4: Perform Eigendecomposition\n",
        "Eigendecomposition of the covariance matrix will give us the eigenvalues and eigenvectors, which are essential for PCA.\n",
        "Fill in the code to compute the eigenvalues and eigenvectors of the covariance matrix."
      ]
    },
    {
      "cell_type": "code",
      "execution_count": 51,
      "metadata": {
        "id": "Yr0mo_16p1qE",
        "colab": {
          "base_uri": "https://localhost:8080/",
          "height": 176
        },
        "outputId": "b65ae889-73c7-4452-8a05-8e142dd02870"
      },
      "outputs": [
        {
          "output_type": "error",
          "ename": "TypeError",
          "evalue": "cannot unpack non-iterable NoneType object",
          "traceback": [
            "\u001b[0;31m---------------------------------------------------------------------------\u001b[0m",
            "\u001b[0;31mTypeError\u001b[0m                                 Traceback (most recent call last)",
            "\u001b[0;32m<ipython-input-51-51fa1441b96b>\u001b[0m in \u001b[0;36m<cell line: 0>\u001b[0;34m()\u001b[0m\n\u001b[1;32m      1\u001b[0m \u001b[0;31m# Step 4: Perform Eigendecomposition\u001b[0m\u001b[0;34m\u001b[0m\u001b[0;34m\u001b[0m\u001b[0m\n\u001b[0;32m----> 2\u001b[0;31m \u001b[0meigenvalues\u001b[0m\u001b[0;34m,\u001b[0m \u001b[0meigenvectors\u001b[0m \u001b[0;34m=\u001b[0m \u001b[0;32mNone\u001b[0m  \u001b[0;31m# Perform eigendecomposition\u001b[0m\u001b[0;34m\u001b[0m\u001b[0;34m\u001b[0m\u001b[0m\n\u001b[0m\u001b[1;32m      3\u001b[0m \u001b[0meigenvalues\u001b[0m\u001b[0;34m,\u001b[0m \u001b[0meigenvectors\u001b[0m\u001b[0;34m\u001b[0m\u001b[0;34m\u001b[0m\u001b[0m\n",
            "\u001b[0;31mTypeError\u001b[0m: cannot unpack non-iterable NoneType object"
          ]
        }
      ],
      "source": [
        "# Step 4: Perform Eigendecomposition\n",
        "eigenvalues, eigenvectors = None  # Perform eigendecomposition\n",
        "eigenvalues, eigenvectors"
      ]
    },
    {
      "cell_type": "markdown",
      "metadata": {
        "id": "oQSkJS-Ap1qF"
      },
      "source": [
        "### Step 5: Sort Principal Components\n",
        "Sort the eigenvectors based on their corresponding eigenvalues in descending order. The higher the eigenvalue, the more important the eigenvector.\n",
        "Complete the code to sort the eigenvectors and print the sorted components."
      ]
    },
    {
      "cell_type": "code",
      "execution_count": null,
      "metadata": {
        "id": "uNXomvgcp1qG"
      },
      "outputs": [],
      "source": [
        "# Step 5: Sort Principal Components\n",
        "sorted_indices = None  # Sort eigenvalues in descending order\n",
        "sorted_eigenvectors = None  # Sort eigenvectors accordingly\n",
        "sorted_eigenvectors"
      ]
    },
    {
      "cell_type": "markdown",
      "metadata": {
        "id": "Y-CP7X0-p1qH"
      },
      "source": [
        "### Step 6: Project Data onto Principal Components\n",
        "Now that we’ve selected the number of components, we will project the original data onto the chosen principal components.\n",
        "Fill in the code to perform the projection."
      ]
    },
    {
      "cell_type": "code",
      "execution_count": null,
      "metadata": {
        "id": "hKMrUYZmp1qJ"
      },
      "outputs": [],
      "source": [
        "# Step 6: Project Data onto Principal Components\n",
        "num_components = None  # Decide on the number of principal components to keep\n",
        "reduced_data = None  # Project data onto the principal components\n",
        "reduced_data[:5]"
      ]
    },
    {
      "cell_type": "markdown",
      "metadata": {
        "id": "8IWrx-5qp1qK"
      },
      "source": [
        "### Step 7: Output the Reduced Data\n",
        "Finally, display the reduced data obtained by projecting the original dataset onto the selected principal components."
      ]
    },
    {
      "cell_type": "code",
      "execution_count": null,
      "metadata": {
        "id": "_ufAjRTTp1qL"
      },
      "outputs": [],
      "source": [
        "# Step 7: Output the Reduced Data\n",
        "print(f'Reduced Data Shape: {reduced_data.shape}')  # Display reduced data shape\n",
        "reduced_data[:5]  # Display the first few rows of reduced data"
      ]
    },
    {
      "cell_type": "markdown",
      "metadata": {
        "id": "iQErsIoZp1qM"
      },
      "source": [
        "### Step 8: Visualize Before and After PCA\n",
        "Now, let's plot the original data and the data after PCA to compare the reduction in dimensions visually."
      ]
    },
    {
      "cell_type": "code",
      "execution_count": null,
      "metadata": {
        "id": "8p23i5MKp1qN"
      },
      "outputs": [],
      "source": [
        "# Step 8: Visualize Before and After PCA\n",
        "\n",
        "\n",
        "# Plot original data (first two features for simplicity)\n",
        "\n",
        "\n",
        "# Plot reduced data after PCA"
      ]
    }
  ],
  "metadata": {
    "kernelspec": {
      "display_name": "Python 3",
      "name": "python3"
    },
    "language_info": {
      "name": "python",
      "version": "3.8.8"
    },
    "colab": {
      "provenance": [],
      "include_colab_link": true
    }
  },
  "nbformat": 4,
  "nbformat_minor": 0
}